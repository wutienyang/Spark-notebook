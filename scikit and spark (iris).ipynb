{
 "cells": [
  {
   "cell_type": "code",
   "execution_count": 1,
   "metadata": {
    "collapsed": true,
    "deletable": true,
    "editable": true
   },
   "outputs": [],
   "source": [
    "import findspark\n",
    "findspark.init('/Users/wy/spark-1.6.0-bin-hadoop2.6')\n",
    "\n",
    "import pyspark\n",
    "sc = pyspark.SparkContext(appName=\"myAppName\")"
   ]
  },
  {
   "cell_type": "code",
   "execution_count": 9,
   "metadata": {
    "collapsed": true,
    "deletable": true,
    "editable": true
   },
   "outputs": [],
   "source": [
    "from sklearn import datasets\n",
    "from math import *\n",
    "from sklearn import tree\n",
    "from sklearn.ensemble import ExtraTreesClassifier\n",
    "from sklearn import cross_validation\n",
    "from sklearn.feature_selection import SelectFromModel\n",
    "from sklearn.metrics import confusion_matrix\n",
    "from sklearn.ensemble import RandomForestClassifier\n",
    "from sklearn.ensemble import AdaBoostClassifier\n",
    "from sklearn import preprocessing\n",
    "from sklearn.cross_validation import KFold\n",
    "from sklearn.cross_validation import StratifiedKFold\n",
    "from sklearn.grid_search import GridSearchCV\n",
    "from sklearn.cluster import spectral_clustering\n",
    "from sklearn import mixture\n",
    "from sklearn.cluster import KMeans\n",
    "from sklearn.cluster import MiniBatchKMeans\n",
    "from sklearn import decomposition\n",
    "from sklearn.cross_validation import train_test_split"
   ]
  },
  {
   "cell_type": "code",
   "execution_count": 43,
   "metadata": {
    "collapsed": false,
    "deletable": true,
    "editable": true
   },
   "outputs": [
    {
     "name": "stdout",
     "output_type": "stream",
     "text": [
      "accuracy : 0.973684 \n",
      "recallBase : 12.000000 , recallUper : 12.000000 , recall : 1.000000 \n",
      "precisionBase : 13.000000 , precisionUper : 12.000000 , precision : 0.923077 \n",
      "f1score : 0.960000 \n"
     ]
    }
   ],
   "source": [
    "iris = datasets.load_iris()\n",
    "\n",
    "X_train, X_test, y_train, y_test = train_test_split(iris.data, iris.target, test_size=0.25)\n",
    "\n",
    "clf = RandomForestClassifier(n_estimators=3, max_depth=3,max_leaf_nodes=10, \n",
    "                             max_features=\"auto\", random_state=1)\n",
    "clf.fit(X_train, y_train)\n",
    "X_test_prediction = clf.predict(X_test)\n",
    "\n",
    "labelAndprediction = zip(list(y_test),list(X_test_prediction))\n",
    "\n",
    "recallBase = 0\n",
    "recallUper = 0\n",
    "precisionBase = 0\n",
    "precisionUper = 0\n",
    "accuracy = 0\n",
    "\n",
    "for label,prediction in labelAndprediction:\n",
    "    label = int(label)\n",
    "    if label == 1 :\n",
    "        recallBase += 1\n",
    "        if prediction == 1 :\n",
    "            recallUper += 1\n",
    "recall = float(recallUper)/float(recallBase)\n",
    "\n",
    "for label,prediction in labelAndprediction:\n",
    "    prediction = int(prediction)\n",
    "    if prediction == 1 :\n",
    "        precisionBase += 1\n",
    "        if label == 1 :\n",
    "            precisionUper += 1\n",
    "precision = float(precisionUper)/float(precisionBase)\n",
    "\n",
    "for label,prediction in labelAndprediction:\n",
    "    if label == prediction:\n",
    "        accuracy += 1\n",
    "accuracy = float(accuracy)/float(len(y_test))\n",
    "f1score = (2*precision*recall)/(precision+recall)\n",
    "\n",
    "print \"accuracy : %f \" %(accuracy)\n",
    "print \"recallBase : %f , recallUper : %f , recall : %f \" %(recallBase, recallUper, recall)\n",
    "print \"precisionBase : %f , precisionUper : %f , precision : %f \" %(precisionBase, precisionUper, precision)\n",
    "print \"f1score : %f \" %(f1score)"
   ]
  },
  {
   "cell_type": "code",
   "execution_count": 44,
   "metadata": {
    "collapsed": false,
    "deletable": true,
    "editable": true
   },
   "outputs": [
    {
     "data": {
      "text/plain": [
       "(150, 4)"
      ]
     },
     "execution_count": 44,
     "metadata": {},
     "output_type": "execute_result"
    }
   ],
   "source": [
    "iris.data.shape"
   ]
  },
  {
   "cell_type": "code",
   "execution_count": 45,
   "metadata": {
    "collapsed": true,
    "deletable": true,
    "editable": true
   },
   "outputs": [],
   "source": [
    "from pyspark.mllib.regression import LabeledPoint\n",
    "distData1 = sc.parallelize(iris.data)\n",
    "distData2 = sc.parallelize(iris.target)\n",
    "distData = distData2.zip(distData1).map(lambda x : LabeledPoint(x[0],x[1]))"
   ]
  },
  {
   "cell_type": "code",
   "execution_count": 46,
   "metadata": {
    "collapsed": false,
    "deletable": true,
    "editable": true
   },
   "outputs": [
    {
     "data": {
      "text/plain": [
       "LabeledPoint(0.0, [5.1,3.5,1.4,0.2])"
      ]
     },
     "execution_count": 46,
     "metadata": {},
     "output_type": "execute_result"
    }
   ],
   "source": [
    "distData.first()"
   ]
  },
  {
   "cell_type": "code",
   "execution_count": 47,
   "metadata": {
    "collapsed": true,
    "deletable": true,
    "editable": true
   },
   "outputs": [],
   "source": [
    "from pyspark.mllib.tree import RandomForest, RandomForestModel\n",
    "from pyspark.mllib.util import MLUtils\n",
    "\n",
    "(trainingData, testData) = distData.randomSplit([0.75, 0.25])\n",
    "\n",
    "\n",
    "model = RandomForest.trainClassifier(trainingData, numClasses=4, categoricalFeaturesInfo={},\n",
    "                                     numTrees=3, featureSubsetStrategy=\"auto\",\n",
    "                                     impurity='gini', maxDepth=3, maxBins=10)\n",
    "\n",
    "# Evaluate model on test instances and compute test error\n",
    "predictions = model.predict(testData.map(lambda x: x.features))\n",
    "labelsAndPredictions = testData.map(lambda lp: lp.label).zip(predictions)\n",
    "testErr = labelsAndPredictions.filter(lambda (v, p): v != p).count() / float(testData.count())\n"
   ]
  },
  {
   "cell_type": "code",
   "execution_count": 48,
   "metadata": {
    "collapsed": false,
    "deletable": true,
    "editable": true,
    "scrolled": true
   },
   "outputs": [],
   "source": [
    "y_test = labelsAndPredictions.map(lambda x : x[0]).collect()\n",
    "X_test_prediction = labelsAndPredictions.map(lambda x : x[1]).collect()"
   ]
  },
  {
   "cell_type": "code",
   "execution_count": 49,
   "metadata": {
    "collapsed": false,
    "deletable": true,
    "editable": true
   },
   "outputs": [
    {
     "name": "stdout",
     "output_type": "stream",
     "text": [
      "accuracy : 0.933333 \n",
      "recallBase : 10.000000 , recallUper : 10.000000 , recall : 1.000000 \n",
      "precisionBase : 12.000000 , precisionUper : 10.000000 , precision : 0.833333 \n",
      "f1score : 0.909091 \n"
     ]
    }
   ],
   "source": [
    "labelAndprediction = zip(list(y_test),list(X_test_prediction))\n",
    "\n",
    "recallBase = 0\n",
    "recallUper = 0\n",
    "precisionBase = 0\n",
    "precisionUper = 0\n",
    "accuracy = 0\n",
    "\n",
    "for label,prediction in labelAndprediction:\n",
    "    label = int(label)\n",
    "    if label == 1 :\n",
    "        recallBase += 1\n",
    "        if prediction == 1 :\n",
    "            recallUper += 1\n",
    "recall = float(recallUper)/float(recallBase)\n",
    "\n",
    "for label,prediction in labelAndprediction:\n",
    "    prediction = int(prediction)\n",
    "    if prediction == 1 :\n",
    "        precisionBase += 1\n",
    "        if label == 1 :\n",
    "            precisionUper += 1\n",
    "precision = float(precisionUper)/float(precisionBase)\n",
    "\n",
    "for label,prediction in labelAndprediction:\n",
    "    if label == prediction:\n",
    "        accuracy += 1\n",
    "accuracy = float(accuracy)/float(len(y_test))\n",
    "f1score = (2*precision*recall)/(precision+recall)\n",
    "\n",
    "print \"accuracy : %f \" %(accuracy)\n",
    "print \"recallBase : %f , recallUper : %f , recall : %f \" %(recallBase, recallUper, recall)\n",
    "print \"precisionBase : %f , precisionUper : %f , precision : %f \" %(precisionBase, precisionUper, precision)\n",
    "print \"f1score : %f \" %(f1score)"
   ]
  },
  {
   "cell_type": "code",
   "execution_count": null,
   "metadata": {
    "collapsed": true,
    "deletable": true,
    "editable": true
   },
   "outputs": [],
   "source": []
  }
 ],
 "metadata": {
  "kernelspec": {
   "display_name": "Python 3",
   "language": "python",
   "name": "python3"
  },
  "language_info": {
   "codemirror_mode": {
    "name": "ipython",
    "version": 3
   },
   "file_extension": ".py",
   "mimetype": "text/x-python",
   "name": "python",
   "nbconvert_exporter": "python",
   "pygments_lexer": "ipython3",
   "version": "3.6.0"
  }
 },
 "nbformat": 4,
 "nbformat_minor": 0
}
