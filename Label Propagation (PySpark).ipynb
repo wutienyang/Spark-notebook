{
 "cells": [
  {
   "cell_type": "code",
   "execution_count": 1,
   "metadata": {
    "collapsed": true,
    "deletable": true,
    "editable": true
   },
   "outputs": [],
   "source": [
    "import findspark\n",
    "findspark.init(\"/Users/wy/spark-1.6.0-bin-hadoop2.6\")\n",
    "\n",
    "import pyspark\n",
    "sc = pyspark.SparkContext(appName=\"myAppName\")"
   ]
  },
  {
   "cell_type": "code",
   "execution_count": 60,
   "metadata": {
    "collapsed": true,
    "deletable": true,
    "editable": true
   },
   "outputs": [],
   "source": [
    "verticesRDD = sc.parallelize([0,1,2,3,4,5])\n",
    "bIdVertices = sc.broadcast(verticesRDD.map(lambda x : (x,x)).collectAsMap())"
   ]
  },
  {
   "cell_type": "code",
   "execution_count": 61,
   "metadata": {
    "collapsed": false,
    "deletable": true,
    "editable": true
   },
   "outputs": [],
   "source": [
    "vid = bIdVertices.value"
   ]
  },
  {
   "cell_type": "code",
   "execution_count": 62,
   "metadata": {
    "collapsed": false,
    "deletable": true,
    "editable": true
   },
   "outputs": [
    {
     "data": {
      "text/plain": [
       "{0: 0, 1: 1, 2: 2, 3: 3, 4: 4, 5: 5}"
      ]
     },
     "execution_count": 62,
     "metadata": {},
     "output_type": "execute_result"
    }
   ],
   "source": [
    "vid"
   ]
  },
  {
   "cell_type": "code",
   "execution_count": 63,
   "metadata": {
    "collapsed": false,
    "deletable": true,
    "editable": true
   },
   "outputs": [],
   "source": [
    "edges = sc.parallelize([(0,1),(0,2),(1,2),(2,3),(4,3),(4,5),(5,3)])\n",
    "neighbor = edges.flatMap(lambda x : [(x[1],x[0]),(x[0],x[1])]).groupByKey()"
   ]
  },
  {
   "cell_type": "code",
   "execution_count": 64,
   "metadata": {
    "collapsed": false,
    "deletable": true,
    "editable": true
   },
   "outputs": [
    {
     "data": {
      "text/plain": [
       "[(0, <pyspark.resultiterable.ResultIterable at 0x107301110>),\n",
       " (4, <pyspark.resultiterable.ResultIterable at 0x1072f4fd0>),\n",
       " (1, <pyspark.resultiterable.ResultIterable at 0x1072b6850>),\n",
       " (5, <pyspark.resultiterable.ResultIterable at 0x10728cf50>),\n",
       " (2, <pyspark.resultiterable.ResultIterable at 0x10728ce10>),\n",
       " (3, <pyspark.resultiterable.ResultIterable at 0x10728c690>)]"
      ]
     },
     "execution_count": 64,
     "metadata": {},
     "output_type": "execute_result"
    }
   ],
   "source": [
    "neighbor.collect()"
   ]
  },
  {
   "cell_type": "code",
   "execution_count": 74,
   "metadata": {
    "collapsed": false,
    "deletable": true,
    "editable": true
   },
   "outputs": [],
   "source": [
    "def findFrequent(l):\n",
    "    word_list = [vid[v] for v in l]\n",
    "    word_counter ={}\n",
    "    for word in word_list:\n",
    "        if word in word_counter:\n",
    "            word_counter[word] +=1\n",
    "        else:\n",
    "            word_counter[word] = 1\n",
    "        popular_word =sorted(word_counter, key = word_counter.get, reverse = True)\n",
    "        top = popular_word[0]\n",
    "    return top"
   ]
  },
  {
   "cell_type": "code",
   "execution_count": 75,
   "metadata": {
    "collapsed": false,
    "deletable": true,
    "editable": true
   },
   "outputs": [],
   "source": [
    "for i in range(10):\n",
    "    cc = neighbor.map(lambda x : (x[0],findFrequent(list(x[1])))).collectAsMap()\n",
    "    vid = cc"
   ]
  },
  {
   "cell_type": "code",
   "execution_count": 76,
   "metadata": {
    "collapsed": false,
    "deletable": true,
    "editable": true
   },
   "outputs": [
    {
     "data": {
      "text/plain": [
       "{0: 0, 1: 0, 2: 0, 3: 2, 4: 2, 5: 2}"
      ]
     },
     "execution_count": 76,
     "metadata": {},
     "output_type": "execute_result"
    }
   ],
   "source": [
    "vid"
   ]
  },
  {
   "cell_type": "code",
   "execution_count": null,
   "metadata": {
    "collapsed": true,
    "deletable": true,
    "editable": true
   },
   "outputs": [],
   "source": []
  }
 ],
 "metadata": {
  "kernelspec": {
   "display_name": "Python 3",
   "language": "python",
   "name": "python3"
  },
  "language_info": {
   "codemirror_mode": {
    "name": "ipython",
    "version": 3
   },
   "file_extension": ".py",
   "mimetype": "text/x-python",
   "name": "python",
   "nbconvert_exporter": "python",
   "pygments_lexer": "ipython3",
   "version": "3.6.0"
  }
 },
 "nbformat": 4,
 "nbformat_minor": 0
}
